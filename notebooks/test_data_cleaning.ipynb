{
 "cells": [
  {
   "cell_type": "code",
   "execution_count": 10,
   "metadata": {},
   "outputs": [
    {
     "name": "stdout",
     "output_type": "stream",
     "text": [
      "All column names cleaned successfully!\n"
     ]
    }
   ],
   "source": [
    "import pandas as pd\n",
    "\n",
    "def test_column_names_cleaned():\n",
    "    # Load the dataset\n",
    "    df = pd.read_csv('../data/raw/HGG_DB.csv')\n",
    "    \n",
    "    # Clean column names\n",
    "    df.columns = df.columns.str.strip() \\\n",
    "                            .str.lower() \\\n",
    "                            .str.replace(' ', '_') \\\n",
    "                            .str.replace('[^a-z0-9_]', '', regex=True)\n",
    "    \n",
    "    # Run assertions for all columns\n",
    "    for col in df.columns:\n",
    "        assert ' ' not in col and col.islower(), f\"Column '{col}' not cleaned properly.\"\n",
    "\n",
    "    # Print this only if all assertions pass\n",
    "    print(\"All column names cleaned successfully!\")\n",
    "\n",
    "# Call the test function\n",
    "test_column_names_cleaned()\n",
    "\n",
    "\n",
    "\n",
    "def test_missing_values_filled():\n",
    "    df = pd.read_csv('../data/raw/HGG_DB.csv')\n",
    "    df.fillna('None', inplace=True)\n",
    "    assert df.isnull().sum().sum() == 0, \"Not all missing values were replaced.\"\n"
   ]
  },
  {
   "cell_type": "code",
   "execution_count": 12,
   "metadata": {},
   "outputs": [
    {
     "name": "stdout",
     "output_type": "stream",
     "text": [
      "All missing values successfully replaced with 'None'.\n",
      "\n",
      "Sample of data after filling missing values:\n",
      "       Sample DIPG/NBS-HGG Location Tumor Grade <3 yrs  ACVR1  Histone3  \\\n",
      "0  SJHGG059_A         DIPG  midline          IV     No  G328V      None   \n",
      "1  SJHGG064_A         DIPG  midline          IV     No  G328W      None   \n",
      "2  SJHGG071_A         DIPG  midline        None     No  G328E      None   \n",
      "3  SJHGG005_A         DIPG  midline          IV     No  G328V      None   \n",
      "4  SJHGG106_A         DIPG  midline          IV     No  R258G  H3.1K27M   \n",
      "\n",
      "     ATRX  BCOR BCORL1  ... NTRK1/2/3  EGFR  PIK3CA       PIK3R1  BRAF   NF1  \\\n",
      "0    None  None   None  ...      None  None   E545K  T576_R577>R  None  None   \n",
      "1    None  None   None  ...      None  None  H1047R         None  None  None   \n",
      "2  T1610R  None   None  ...      None  None   E545K         None  None  None   \n",
      "3    None  None   None  ...      None  None    None         None  None  None   \n",
      "4    None  None   None  ...      None  None  H1047R         None  None  None   \n",
      "\n",
      "  CCND1/2/3.CDK4/6 CDKN2A/B  TP53  PPM1D  \n",
      "0             None     None  None   None  \n",
      "1             None     None  None  Q404*  \n",
      "2             None     None  None  S516*  \n",
      "3             None     None  None   None  \n",
      "4             None     None  None   None  \n",
      "\n",
      "[5 rows x 24 columns]\n"
     ]
    }
   ],
   "source": [
    "import pandas as pd\n",
    "import numpy as np\n",
    "\n",
    "def test_fill_missing_values_with_none():\n",
    "    \"\"\"\n",
    "    Test to ensure all missing values in the dataset are replaced with 'None'.\n",
    "    \"\"\"\n",
    "    # Load the dataset\n",
    "    df = pd.read_csv('../data/raw/HGG_DB.csv')\n",
    "    \n",
    "    # Simulate the actual replacement process from your code\n",
    "    df_filled = df.fillna('None')  # Replace missing values with 'None'\n",
    "\n",
    "    # Check if there are still any missing values\n",
    "    remaining_missing = df_filled.isnull().sum().sum()  # Count total missing values\n",
    "    \n",
    "    # Assert: No missing values should remain\n",
    "    assert remaining_missing == 0, f\"There are still {remaining_missing} missing values in the dataset.\"\n",
    "    \n",
    "    # Check that all previously missing values are filled with 'None'\n",
    "    missing_replaced_correctly = (df_filled == 'None').sum().sum() > 0\n",
    "    assert missing_replaced_correctly, \"Missing values were not replaced with 'None' as expected.\"\n",
    "    \n",
    "    # Print success message and a sample of the dataset\n",
    "    print(\"All missing values successfully replaced with 'None'.\")\n",
    "    print(\"\\nSample of data after filling missing values:\")\n",
    "    print(df_filled.head())\n",
    "\n",
    "# Call the test function\n",
    "test_fill_missing_values_with_none()\n"
   ]
  }
 ],
 "metadata": {
  "kernelspec": {
   "display_name": "venv",
   "language": "python",
   "name": "python3"
  },
  "language_info": {
   "codemirror_mode": {
    "name": "ipython",
    "version": 3
   },
   "file_extension": ".py",
   "mimetype": "text/x-python",
   "name": "python",
   "nbconvert_exporter": "python",
   "pygments_lexer": "ipython3",
   "version": "3.12.8"
  }
 },
 "nbformat": 4,
 "nbformat_minor": 2
}
